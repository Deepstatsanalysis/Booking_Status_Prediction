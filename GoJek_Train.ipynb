{
 "cells": [
  {
   "cell_type": "code",
   "execution_count": 406,
   "metadata": {
    "collapsed": false
   },
   "outputs": [],
   "source": [
    "%matplotlib inline\n",
    "import pandas as pd\n",
    "from matplotlib import pyplot as plt\n",
    "from geopy.distance import vincenty\n",
    "from sklearn import preprocessing\n",
    "from patsy import dmatrices\n",
    "from sklearn.linear_model import LogisticRegression\n",
    "from sklearn.cross_validation import train_test_split\n",
    "from sklearn import metrics\n",
    "from sklearn.cross_validation import cross_val_score\n",
    "import numpy as np\n",
    "import statsmodels.api as sm\n",
    "path = \"C:\\\\Users\\\\Vaibhav\\\\Desktop\\\\GoJek\\\\\"\n",
    "trainFile = \"GoJek_traindata.csv\"\n",
    "testFile = \"GoJek_testdata.csv\""
   ]
  },
  {
   "cell_type": "markdown",
   "metadata": {},
   "source": [
    "## Creating Features"
   ]
  },
  {
   "cell_type": "code",
   "execution_count": 302,
   "metadata": {
    "collapsed": false
   },
   "outputs": [],
   "source": [
    "def data_processing(File):\n",
    "    data = pd.read_csv(path+File,header=0,index_col = None)\n",
    "    data['perc_disc'] = data['amount_cust_discount']/data['original_rate_cost']\n",
    "    data['fromLoc'] = data[['booking_from_long','booking_from_lat']].apply(tuple,axis=1)\n",
    "    data['toLoc'] = data[['booking_to_long','booking_to_lat']].apply(tuple,axis=1)\n",
    "    data['distance'] = map(lambda x,y: vincenty(x,y).miles, data['fromLoc'],data['toLoc'])\n",
    "    data['total_amt'] = data['original_rate_cost'] - data['amount_cust_discount']\n",
    "    le_status = preprocessing.LabelEncoder()\n",
    "    data.booking_status = le_status.fit_transform(data.booking_status)\n",
    "    data.head()\n",
    "    data['time'] = map(lambda x: float(x[10:].replace(\":\",\".\")), data['booking_date'])\n",
    "    data['date'] = map(lambda x: (x[:9].replace(\":\",\".\")), data['booking_date'])\n",
    "    data['day_time'] = 0\n",
    "    data.ix[(data.time >= 0) & (data.time <= 4),'day_time']= 0\n",
    "    data.ix[(data.time >= 4) & (data.time <= 8),'day_time']= 1\n",
    "    data.ix[(data.time >= 8) & (data.time <= 12),'day_time']= 2\n",
    "    data.ix[(data.time >= 12) & (data.time <= 16),'day_time']= 3\n",
    "    data.ix[(data.time >= 16) & (data.time <= 20),'day_time']= 4\n",
    "    data.ix[(data.time >= 20) & (data.time <= 24),'day_time']= 5\n",
    "    data['is_frequent'] = data.groupby('customer_id')['customer_id'].transform('count')\n",
    "    for cust in data[data.is_frequent ==2]['customer_id'].unique():\n",
    "        time_min = data[(data.is_frequent ==2) & (data.customer_id == cust)]['time'].min()\n",
    "        data.ix[(data.time == time_min) & (data.customer_id == cust) ,'is_frequent'] = 1\n",
    "\n",
    "    for cust in data[data.is_frequent ==3]['customer_id'].unique():\n",
    "        time_min = data[(data.is_frequent ==3) & (data.customer_id == cust)]['time'].min()\n",
    "        data.ix[(data.time == time_min) & (data.customer_id == cust) ,'is_frequent'] = 1\n",
    "\n",
    "    for cust in data[data.is_frequent ==3]['customer_id'].unique():\n",
    "        time_min = data[(data.is_frequent ==3) & (data.customer_id == cust)]['time'].min()\n",
    "        data.ix[(data.time == time_min) & (data.customer_id == cust) ,'is_frequent'] = 2\n",
    "\n",
    "    data['final_amt'] = data['total_amt']*data['distance']\n",
    "    data['intercept'] = 1.0\n",
    "    #data.columns\n",
    "\n",
    "    dataNew = data[['booking_status','intercept','is_rush_hour_price','perc_disc','distance','day_time',\n",
    "                    'is_frequent','final_amt']]\n",
    "    return dataNew"
   ]
  },
  {
   "cell_type": "code",
   "execution_count": 400,
   "metadata": {
    "collapsed": false
   },
   "outputs": [
    {
     "data": {
      "text/html": [
       "<div>\n",
       "<table border=\"1\" class=\"dataframe\">\n",
       "  <thead>\n",
       "    <tr style=\"text-align: right;\">\n",
       "      <th></th>\n",
       "      <th>intercept</th>\n",
       "      <th>is_rush_hour_price</th>\n",
       "      <th>perc_disc</th>\n",
       "      <th>distance</th>\n",
       "      <th>day_time</th>\n",
       "      <th>is_frequent</th>\n",
       "      <th>final_amt</th>\n",
       "    </tr>\n",
       "    <tr>\n",
       "      <th>booking_status</th>\n",
       "      <th></th>\n",
       "      <th></th>\n",
       "      <th></th>\n",
       "      <th></th>\n",
       "      <th></th>\n",
       "      <th></th>\n",
       "      <th></th>\n",
       "    </tr>\n",
       "  </thead>\n",
       "  <tbody>\n",
       "    <tr>\n",
       "      <th>0</th>\n",
       "      <td>1.0</td>\n",
       "      <td>0.231884</td>\n",
       "      <td>0.476257</td>\n",
       "      <td>2.738238</td>\n",
       "      <td>2.042899</td>\n",
       "      <td>1.022609</td>\n",
       "      <td>54039.395778</td>\n",
       "    </tr>\n",
       "    <tr>\n",
       "      <th>1</th>\n",
       "      <td>1.0</td>\n",
       "      <td>0.230602</td>\n",
       "      <td>0.496300</td>\n",
       "      <td>2.304647</td>\n",
       "      <td>1.836959</td>\n",
       "      <td>1.014866</td>\n",
       "      <td>37787.055874</td>\n",
       "    </tr>\n",
       "  </tbody>\n",
       "</table>\n",
       "</div>"
      ],
      "text/plain": [
       "                intercept  is_rush_hour_price  perc_disc  distance  day_time  \\\n",
       "booking_status                                                                 \n",
       "0                     1.0            0.231884   0.476257  2.738238  2.042899   \n",
       "1                     1.0            0.230602   0.496300  2.304647  1.836959   \n",
       "\n",
       "                is_frequent     final_amt  \n",
       "booking_status                             \n",
       "0                  1.022609  54039.395778  \n",
       "1                  1.014866  37787.055874  "
      ]
     },
     "execution_count": 400,
     "metadata": {},
     "output_type": "execute_result"
    }
   ],
   "source": [
    "trainData = data_processing(trainFile)\n",
    "testData = data_processing(testFile)\n",
    "\n",
    "#trainDataNew.groupby('booking_status').mean().plot(kind = 'bar',figsize = (12,6))\n",
    "trainData.groupby('booking_status').mean()"
   ]
  },
  {
   "cell_type": "code",
   "execution_count": 401,
   "metadata": {
    "collapsed": false
   },
   "outputs": [
    {
     "data": {
      "text/plain": [
       "array([[<matplotlib.axes._subplots.AxesSubplot object at 0x000000000A2CCBE0>,\n",
       "        <matplotlib.axes._subplots.AxesSubplot object at 0x0000000034904780>,\n",
       "        <matplotlib.axes._subplots.AxesSubplot object at 0x000000003C948AC8>],\n",
       "       [<matplotlib.axes._subplots.AxesSubplot object at 0x00000000348E64E0>,\n",
       "        <matplotlib.axes._subplots.AxesSubplot object at 0x00000000DFF2A5F8>,\n",
       "        <matplotlib.axes._subplots.AxesSubplot object at 0x00000000E1699BA8>],\n",
       "       [<matplotlib.axes._subplots.AxesSubplot object at 0x000000003EADB470>,\n",
       "        <matplotlib.axes._subplots.AxesSubplot object at 0x00000000E3733F60>,\n",
       "        <matplotlib.axes._subplots.AxesSubplot object at 0x00000000E407EB00>]], dtype=object)"
      ]
     },
     "execution_count": 401,
     "metadata": {},
     "output_type": "execute_result"
    },
    {
     "data": {
      "image/png": "[encoded data removed]",
      "text/plain": [
       "<matplotlib.figure.Figure at 0x6f2ecfd0>"
      ]
     },
     "metadata": {},
     "output_type": "display_data"
    }
   ],
   "source": [
    "trainData.hist(figsize=(10,8))"
   ]
  },
  {
   "cell_type": "code",
   "execution_count": 402,
   "metadata": {
    "collapsed": false
   },
   "outputs": [
    {
     "data": {
      "text/plain": [
       "<matplotlib.axes._subplots.AxesSubplot at 0xe64d8da0>"
      ]
     },
     "execution_count": 402,
     "metadata": {},
     "output_type": "execute_result"
    },
    {
     "data": {
      "image/png": "[encoded data removed]",
      "text/plain": [
       "<matplotlib.figure.Figure at 0x6f14ff28>"
      ]
     },
     "metadata": {},
     "output_type": "display_data"
    }
   ],
   "source": [
    "pd.crosstab(trainData.is_rush_hour_price, trainData.booking_status.astype(bool)).plot(kind='bar')"
   ]
  },
  {
   "cell_type": "code",
   "execution_count": 410,
   "metadata": {
    "collapsed": false
   },
   "outputs": [
    {
     "data": {
      "text/plain": [
       "<matplotlib.axes._subplots.AxesSubplot at 0xe1810cc0>"
      ]
     },
     "execution_count": 410,
     "metadata": {},
     "output_type": "execute_result"
    },
    {
     "data": {
      "image/png": "[encoded data removed]",
      "text/plain": [
       "<matplotlib.figure.Figure at 0xe28dca20>"
      ]
     },
     "metadata": {},
     "output_type": "display_data"
    }
   ],
   "source": [
    "pd.crosstab(trainData.day_time, trainData.booking_status.astype(bool)).plot(kind='bar')"
   ]
  },
  {
   "cell_type": "code",
   "execution_count": 411,
   "metadata": {
    "collapsed": false
   },
   "outputs": [
    {
     "data": {
      "text/plain": [
       "<matplotlib.axes._subplots.AxesSubplot at 0xe5196a20>"
      ]
     },
     "execution_count": 411,
     "metadata": {},
     "output_type": "execute_result"
    },
    {
     "data": {
      "image/png": "[encoded data removed]",
      "text/plain": [
       "<matplotlib.figure.Figure at 0xdda12080>"
      ]
     },
     "metadata": {},
     "output_type": "display_data"
    }
   ],
   "source": [
    "pd.crosstab(trainData.is_rush_hour_price, trainData.booking_status.astype(bool)).plot(kind='bar')"
   ]
  },
  {
   "cell_type": "markdown",
   "metadata": {},
   "source": [
    "## Logistic Regression"
   ]
  },
  {
   "cell_type": "code",
   "execution_count": 432,
   "metadata": {
    "collapsed": false
   },
   "outputs": [
    {
     "name": "stdout",
     "output_type": "stream",
     "text": [
      "Optimization terminated successfully.\n",
      "         Current function value: 0.453325\n",
      "         Iterations 6\n"
     ]
    },
    {
     "data": {
      "text/html": [
       "<table class=\"simpletable\">\n",
       "<caption>Logit Regression Results</caption>\n",
       "<tr>\n",
       "  <th>Dep. Variable:</th>  <td>booking_status</td>  <th>  No. Observations:  </th>  <td>  9999</td>  \n",
       "</tr>\n",
       "<tr>\n",
       "  <th>Model:</th>               <td>Logit</td>      <th>  Df Residuals:      </th>  <td>  9994</td>  \n",
       "</tr>\n",
       "<tr>\n",
       "  <th>Method:</th>               <td>MLE</td>       <th>  Df Model:          </th>  <td>     4</td>  \n",
       "</tr>\n",
       "<tr>\n",
       "  <th>Date:</th>          <td>Sun, 18 Sep 2016</td> <th>  Pseudo R-squ.:     </th>  <td>0.01420</td> \n",
       "</tr>\n",
       "<tr>\n",
       "  <th>Time:</th>              <td>19:16:02</td>     <th>  Log-Likelihood:    </th> <td> -4532.8</td> \n",
       "</tr>\n",
       "<tr>\n",
       "  <th>converged:</th>           <td>True</td>       <th>  LL-Null:           </th> <td> -4598.1</td> \n",
       "</tr>\n",
       "<tr>\n",
       "  <th> </th>                      <td> </td>        <th>  LLR p-value:       </th> <td>2.913e-27</td>\n",
       "</tr>\n",
       "</table>\n",
       "<table class=\"simpletable\">\n",
       "<tr>\n",
       "       <td></td>          <th>coef</th>     <th>std err</th>      <th>z</th>      <th>P>|z|</th> <th>[95.0% Conf. Int.]</th> \n",
       "</tr>\n",
       "<tr>\n",
       "  <th>perc_disc</th>   <td>    2.0083</td> <td>    0.239</td> <td>    8.419</td> <td> 0.000</td> <td>    1.541     2.476</td>\n",
       "</tr>\n",
       "<tr>\n",
       "  <th>distance</th>    <td>    0.1992</td> <td>    0.036</td> <td>    5.544</td> <td> 0.000</td> <td>    0.129     0.270</td>\n",
       "</tr>\n",
       "<tr>\n",
       "  <th>day_time</th>    <td>   -0.0648</td> <td>    0.017</td> <td>   -3.902</td> <td> 0.000</td> <td>   -0.097    -0.032</td>\n",
       "</tr>\n",
       "<tr>\n",
       "  <th>is_frequent</th> <td>    0.6158</td> <td>    0.133</td> <td>    4.614</td> <td> 0.000</td> <td>    0.354     0.877</td>\n",
       "</tr>\n",
       "<tr>\n",
       "  <th>final_amt</th>   <td>-9.267e-06</td> <td> 1.15e-06</td> <td>   -8.030</td> <td> 0.000</td> <td>-1.15e-05    -7e-06</td>\n",
       "</tr>\n",
       "</table>"
      ],
      "text/plain": [
       "<class 'statsmodels.iolib.summary.Summary'>\n",
       "\"\"\"\n",
       "                           Logit Regression Results                           \n",
       "==============================================================================\n",
       "Dep. Variable:         booking_status   No. Observations:                 9999\n",
       "Model:                          Logit   Df Residuals:                     9994\n",
       "Method:                           MLE   Df Model:                            4\n",
       "Date:                Sun, 18 Sep 2016   Pseudo R-squ.:                 0.01420\n",
       "Time:                        19:16:02   Log-Likelihood:                -4532.8\n",
       "converged:                       True   LL-Null:                       -4598.1\n",
       "                                        LLR p-value:                 2.913e-27\n",
       "===============================================================================\n",
       "                  coef    std err          z      P>|z|      [95.0% Conf. Int.]\n",
       "-------------------------------------------------------------------------------\n",
       "perc_disc       2.0083      0.239      8.419      0.000         1.541     2.476\n",
       "distance        0.1992      0.036      5.544      0.000         0.129     0.270\n",
       "day_time       -0.0648      0.017     -3.902      0.000        -0.097    -0.032\n",
       "is_frequent     0.6158      0.133      4.614      0.000         0.354     0.877\n",
       "final_amt   -9.267e-06   1.15e-06     -8.030      0.000     -1.15e-05    -7e-06\n",
       "===============================================================================\n",
       "\"\"\""
      ]
     },
     "execution_count": 432,
     "metadata": {},
     "output_type": "execute_result"
    }
   ],
   "source": [
    "predictors = [x for x in trainData.columns if x not in  ['booking_status','intercept','is_rush_hour_price']]\n",
    "logit = sm.Logit(trainData['booking_status'], trainData[predictors])\n",
    "result = logit.fit()\n",
    "result.summary()"
   ]
  },
  {
   "cell_type": "code",
   "execution_count": 434,
   "metadata": {
    "collapsed": false
   },
   "outputs": [
    {
     "name": "stdout",
     "output_type": "stream",
     "text": [
      "0.8135\n",
      "0.8149\n"
     ]
    }
   ],
   "source": [
    "predicted = result.predict(testData[predictors])  \n",
    "print np.mean(y_test==(predicted >=0.5))\n",
    "print y_test.mean()"
   ]
  },
  {
   "cell_type": "code",
   "execution_count": 418,
   "metadata": {
    "collapsed": false
   },
   "outputs": [
    {
     "data": {
      "text/plain": [
       "booking_status  day_time\n",
       "0               0           52408.707812\n",
       "                1           56008.368218\n",
       "                2           60410.039279\n",
       "                3           49756.216862\n",
       "                4           52360.929261\n",
       "                5           46837.921508\n",
       "1               0           36373.453625\n",
       "                1           37539.981776\n",
       "                2           38084.680870\n",
       "                3           33779.767099\n",
       "                4           40006.855712\n",
       "                5           45095.931723\n",
       "Name: final_amt, dtype: float64"
      ]
     },
     "execution_count": 418,
     "metadata": {},
     "output_type": "execute_result"
    }
   ],
   "source": [
    "trainData.pivot_table(values = 'final_amt',index = ['booking_status','day_time'],aggfunc=np.mean)"
   ]
  },
  {
   "cell_type": "markdown",
   "metadata": {},
   "source": [
    "## Random Forest Classifier"
   ]
  },
  {
   "cell_type": "code",
   "execution_count": 435,
   "metadata": {
    "collapsed": false
   },
   "outputs": [
    {
     "data": {
      "text/plain": [
       "RandomForestClassifier(bootstrap=True, class_weight={0: 10, 1: 1},\n",
       "            criterion='gini', max_depth=None, max_features='auto',\n",
       "            max_leaf_nodes=None, min_samples_leaf=1, min_samples_split=2,\n",
       "            min_weight_fraction_leaf=0.0, n_estimators=200, n_jobs=1,\n",
       "            oob_score=False, random_state=None, verbose=0,\n",
       "            warm_start=False)"
      ]
     },
     "execution_count": 435,
     "metadata": {},
     "output_type": "execute_result"
    }
   ],
   "source": [
    "from sklearn.ensemble import RandomForestClassifier\n",
    "train_cols = trainData.columns[2:]\n",
    "rf = RandomForestClassifier(n_estimators=200,class_weight={1: 1, 0:10})\n",
    "rf.fit(trainData[train_cols], trainData.booking_status)"
   ]
  },
  {
   "cell_type": "code",
   "execution_count": 436,
   "metadata": {
    "collapsed": false
   },
   "outputs": [
    {
     "data": {
      "text/plain": [
       "1.0"
      ]
     },
     "execution_count": 436,
     "metadata": {},
     "output_type": "execute_result"
    }
   ],
   "source": [
    "y = trainData.booking_status\n",
    "output = rf.predict(trainData[train_cols])\n",
    "np.mean(y==output)"
   ]
  },
  {
   "cell_type": "code",
   "execution_count": 437,
   "metadata": {
    "collapsed": false
   },
   "outputs": [
    {
     "data": {
      "text/plain": [
       "0.77190000000000003"
      ]
     },
     "execution_count": 437,
     "metadata": {},
     "output_type": "execute_result"
    }
   ],
   "source": [
    "y_test = testData.booking_status\n",
    "output = rf.predict(testData[train_cols])\n",
    "np.mean(y_test==output)"
   ]
  },
  {
   "cell_type": "markdown",
   "metadata": {},
   "source": [
    "## Gradient Boosted Classifier"
   ]
  },
  {
   "cell_type": "code",
   "execution_count": 159,
   "metadata": {
    "collapsed": true
   },
   "outputs": [],
   "source": [
    "from sklearn.ensemble import GradientBoostingClassifier  #GBM algorithm\n",
    "from sklearn import cross_validation, metrics   #Additional scklearn functions\n",
    "from sklearn.grid_search import GridSearchCV   #Perforing grid search\n",
    "\n",
    "def modelfit(alg, dtrain, predictors, performCV=True, printFeatureImportance=True, cv_folds=5):\n",
    "    #Fit the algorithm on the data\n",
    "    alg.fit(dtrain[predictors], dtrain['booking_status'])\n",
    "        \n",
    "    #Predict training set:\n",
    "    dtrain_predictions = alg.predict(dtrain[predictors])\n",
    "    dtrain_predprob = alg.predict_proba(dtrain[predictors])[:,1]\n",
    "    \n",
    "    #Perform cross-validation:\n",
    "    if performCV:\n",
    "        cv_score = cross_validation.cross_val_score(alg, dtrain[predictors], dtrain['booking_status'], cv=cv_folds, scoring='roc_auc')\n",
    "    \n",
    "    #Print model report:\n",
    "    print \"\\nModel Report\"\n",
    "    print \"Accuracy : %.4g\" % metrics.accuracy_score(dtrain['booking_status'].values, dtrain_predictions)\n",
    "    print \"AUC Score (Train): %f\" % metrics.roc_auc_score(dtrain['booking_status'], dtrain_predprob)\n",
    "    \n",
    "    if performCV:\n",
    "        print \"CV Score : Mean - %.7g | Std - %.7g | Min - %.7g | Max - %.7g\" % (np.mean(cv_score),np.std(cv_score),np.min(cv_score),np.max(cv_score))\n",
    "        \n",
    "    #Print Feature Importance:\n",
    "    if printFeatureImportance:\n",
    "        feat_imp = pd.Series(alg.feature_importances_, predictors).sort_values(ascending=False)\n",
    "        feat_imp.plot(kind='bar', title='Feature Importances')\n",
    "        plt.ylabel('Feature Importance Score')"
   ]
  },
  {
   "cell_type": "code",
   "execution_count": 208,
   "metadata": {
    "collapsed": false
   },
   "outputs": [
    {
     "name": "stdout",
     "output_type": "stream",
     "text": [
      "\n",
      "Model Report\n",
      "Accuracy : 0.8343\n",
      "AUC Score (Train): 0.687354\n",
      "CV Score : Mean - 0.6034985 | Std - 0.006273439 | Min - 0.593899 | Max - 0.6102483\n"
     ]
    },
    {
     "data": {
      "image/png": "[encoded data removed]",
      "text/plain": [
       "<matplotlib.figure.Figure at 0x2aa7fcc0>"
      ]
     },
     "metadata": {},
     "output_type": "display_data"
    }
   ],
   "source": [
    "predictors = [x for x in trainData.columns if x not in ['booking_status','intercept']]\n",
    "gbm0 = GradientBoostingClassifier(random_state=10)\n",
    "modelfit(gbm0, trainData, predictors)"
   ]
  },
  {
   "cell_type": "code",
   "execution_count": 253,
   "metadata": {
    "collapsed": false
   },
   "outputs": [
    {
     "data": {
      "text/plain": [
       "([mean: 0.60574, std: 0.00767, params: {'n_estimators': 20},\n",
       "  mean: 0.60868, std: 0.00756, params: {'n_estimators': 40},\n",
       "  mean: 0.60721, std: 0.00616, params: {'n_estimators': 60},\n",
       "  mean: 0.60662, std: 0.00688, params: {'n_estimators': 80},\n",
       "  mean: 0.60636, std: 0.00693, params: {'n_estimators': 100}],\n",
       " {'n_estimators': 40},\n",
       " 0.60868498542423011)"
      ]
     },
     "execution_count": 253,
     "metadata": {},
     "output_type": "execute_result"
    }
   ],
   "source": [
    "predictors = [x for x in trainData.columns if x not in  ['booking_status','intercept']]\n",
    "param_test1 = {'n_estimators':range(20,101,20)}\n",
    "gsearch1 = GridSearchCV(estimator = GradientBoostingClassifier(learning_rate=0.01, min_samples_split=100,\n",
    "                                    min_samples_leaf=50,max_depth=8,max_features='log2',subsample=0.8,random_state=10), \n",
    "param_grid = param_test1, scoring='roc_auc',n_jobs=4,iid=False, cv=5)\n",
    "gsearch1.fit(trainData[predictors],trainData['booking_status'])\n",
    "gsearch1.grid_scores_, gsearch1.best_params_, gsearch1.best_score_"
   ]
  },
  {
   "cell_type": "code",
   "execution_count": 212,
   "metadata": {
    "collapsed": false
   },
   "outputs": [
    {
     "data": {
      "text/plain": [
       "([mean: 0.60357, std: 0.00997, params: {'min_samples_split': 200, 'max_depth': 5},\n",
       "  mean: 0.61018, std: 0.00884, params: {'min_samples_split': 400, 'max_depth': 5},\n",
       "  mean: 0.60917, std: 0.01111, params: {'min_samples_split': 600, 'max_depth': 5},\n",
       "  mean: 0.60791, std: 0.00703, params: {'min_samples_split': 800, 'max_depth': 5},\n",
       "  mean: 0.60817, std: 0.00894, params: {'min_samples_split': 1000, 'max_depth': 5},\n",
       "  mean: 0.60150, std: 0.00686, params: {'min_samples_split': 200, 'max_depth': 7},\n",
       "  mean: 0.60322, std: 0.00631, params: {'min_samples_split': 400, 'max_depth': 7},\n",
       "  mean: 0.60469, std: 0.00662, params: {'min_samples_split': 600, 'max_depth': 7},\n",
       "  mean: 0.60764, std: 0.00709, params: {'min_samples_split': 800, 'max_depth': 7},\n",
       "  mean: 0.60791, std: 0.00420, params: {'min_samples_split': 1000, 'max_depth': 7},\n",
       "  mean: 0.60021, std: 0.01045, params: {'min_samples_split': 200, 'max_depth': 9},\n",
       "  mean: 0.60423, std: 0.00593, params: {'min_samples_split': 400, 'max_depth': 9},\n",
       "  mean: 0.60796, std: 0.00447, params: {'min_samples_split': 600, 'max_depth': 9},\n",
       "  mean: 0.60775, std: 0.00542, params: {'min_samples_split': 800, 'max_depth': 9},\n",
       "  mean: 0.60971, std: 0.00611, params: {'min_samples_split': 1000, 'max_depth': 9},\n",
       "  mean: 0.59693, std: 0.00920, params: {'min_samples_split': 200, 'max_depth': 11},\n",
       "  mean: 0.60287, std: 0.00375, params: {'min_samples_split': 400, 'max_depth': 11},\n",
       "  mean: 0.60325, std: 0.00373, params: {'min_samples_split': 600, 'max_depth': 11},\n",
       "  mean: 0.60769, std: 0.00586, params: {'min_samples_split': 800, 'max_depth': 11},\n",
       "  mean: 0.60932, std: 0.00575, params: {'min_samples_split': 1000, 'max_depth': 11},\n",
       "  mean: 0.59778, std: 0.00889, params: {'min_samples_split': 200, 'max_depth': 13},\n",
       "  mean: 0.60153, std: 0.00950, params: {'min_samples_split': 400, 'max_depth': 13},\n",
       "  mean: 0.60497, std: 0.00320, params: {'min_samples_split': 600, 'max_depth': 13},\n",
       "  mean: 0.60572, std: 0.00494, params: {'min_samples_split': 800, 'max_depth': 13},\n",
       "  mean: 0.60703, std: 0.00491, params: {'min_samples_split': 1000, 'max_depth': 13},\n",
       "  mean: 0.59167, std: 0.00912, params: {'min_samples_split': 200, 'max_depth': 15},\n",
       "  mean: 0.60443, std: 0.00916, params: {'min_samples_split': 400, 'max_depth': 15},\n",
       "  mean: 0.60273, std: 0.00246, params: {'min_samples_split': 600, 'max_depth': 15},\n",
       "  mean: 0.60675, std: 0.00715, params: {'min_samples_split': 800, 'max_depth': 15},\n",
       "  mean: 0.60518, std: 0.00609, params: {'min_samples_split': 1000, 'max_depth': 15}],\n",
       " {'max_depth': 5, 'min_samples_split': 400},\n",
       " 0.61018320769438428)"
      ]
     },
     "execution_count": 212,
     "metadata": {},
     "output_type": "execute_result"
    }
   ],
   "source": [
    "param_test2 = {'max_depth':range(5,16,2), 'min_samples_split':range(200,1001,200)}\n",
    "gsearch2 = GridSearchCV(estimator = GradientBoostingClassifier(learning_rate=0.1, n_estimators=20, \n",
    "                                                               max_features='sqrt', subsample=0.8, random_state=10), \n",
    "param_grid = param_test2, scoring='roc_auc',n_jobs=4,iid=False, cv=5)\n",
    "gsearch2.fit(trainData[predictors],trainData['booking_status'])\n",
    "gsearch2.grid_scores_, gsearch2.best_params_, gsearch2.best_score_"
   ]
  },
  {
   "cell_type": "code",
   "execution_count": 213,
   "metadata": {
    "collapsed": false
   },
   "outputs": [
    {
     "data": {
      "text/plain": [
       "([mean: 0.60836, std: 0.00719, params: {'min_samples_split': 1000, 'min_samples_leaf': 30},\n",
       "  mean: 0.60840, std: 0.00903, params: {'min_samples_split': 1200, 'min_samples_leaf': 30},\n",
       "  mean: 0.60731, std: 0.00799, params: {'min_samples_split': 1400, 'min_samples_leaf': 30},\n",
       "  mean: 0.60649, std: 0.00822, params: {'min_samples_split': 1600, 'min_samples_leaf': 30},\n",
       "  mean: 0.60698, std: 0.00806, params: {'min_samples_split': 1800, 'min_samples_leaf': 30},\n",
       "  mean: 0.60541, std: 0.00802, params: {'min_samples_split': 2000, 'min_samples_leaf': 30},\n",
       "  mean: 0.60693, std: 0.00770, params: {'min_samples_split': 1000, 'min_samples_leaf': 40},\n",
       "  mean: 0.60829, std: 0.00873, params: {'min_samples_split': 1200, 'min_samples_leaf': 40},\n",
       "  mean: 0.60603, std: 0.00953, params: {'min_samples_split': 1400, 'min_samples_leaf': 40},\n",
       "  mean: 0.60685, std: 0.00764, params: {'min_samples_split': 1600, 'min_samples_leaf': 40},\n",
       "  mean: 0.60469, std: 0.00826, params: {'min_samples_split': 1800, 'min_samples_leaf': 40},\n",
       "  mean: 0.60447, std: 0.00855, params: {'min_samples_split': 2000, 'min_samples_leaf': 40},\n",
       "  mean: 0.60785, std: 0.00851, params: {'min_samples_split': 1000, 'min_samples_leaf': 50},\n",
       "  mean: 0.60607, std: 0.00767, params: {'min_samples_split': 1200, 'min_samples_leaf': 50},\n",
       "  mean: 0.60554, std: 0.00877, params: {'min_samples_split': 1400, 'min_samples_leaf': 50},\n",
       "  mean: 0.60478, std: 0.00832, params: {'min_samples_split': 1600, 'min_samples_leaf': 50},\n",
       "  mean: 0.60562, std: 0.00960, params: {'min_samples_split': 1800, 'min_samples_leaf': 50},\n",
       "  mean: 0.60577, std: 0.00863, params: {'min_samples_split': 2000, 'min_samples_leaf': 50},\n",
       "  mean: 0.60873, std: 0.00728, params: {'min_samples_split': 1000, 'min_samples_leaf': 60},\n",
       "  mean: 0.60707, std: 0.00631, params: {'min_samples_split': 1200, 'min_samples_leaf': 60},\n",
       "  mean: 0.60544, std: 0.00764, params: {'min_samples_split': 1400, 'min_samples_leaf': 60},\n",
       "  mean: 0.60454, std: 0.00886, params: {'min_samples_split': 1600, 'min_samples_leaf': 60},\n",
       "  mean: 0.60556, std: 0.00879, params: {'min_samples_split': 1800, 'min_samples_leaf': 60},\n",
       "  mean: 0.60400, std: 0.00924, params: {'min_samples_split': 2000, 'min_samples_leaf': 60},\n",
       "  mean: 0.60790, std: 0.00713, params: {'min_samples_split': 1000, 'min_samples_leaf': 70},\n",
       "  mean: 0.60617, std: 0.00780, params: {'min_samples_split': 1200, 'min_samples_leaf': 70},\n",
       "  mean: 0.60606, std: 0.00850, params: {'min_samples_split': 1400, 'min_samples_leaf': 70},\n",
       "  mean: 0.60516, std: 0.00891, params: {'min_samples_split': 1600, 'min_samples_leaf': 70},\n",
       "  mean: 0.60441, std: 0.01000, params: {'min_samples_split': 1800, 'min_samples_leaf': 70},\n",
       "  mean: 0.60426, std: 0.00763, params: {'min_samples_split': 2000, 'min_samples_leaf': 70}],\n",
       " {'min_samples_leaf': 60, 'min_samples_split': 1000},\n",
       " 0.60873325697738101)"
      ]
     },
     "execution_count": 213,
     "metadata": {},
     "output_type": "execute_result"
    }
   ],
   "source": [
    "param_test3 = {'min_samples_split':range(1000,2100,200), 'min_samples_leaf':range(30,71,10)}\n",
    "gsearch3 = GridSearchCV(estimator = GradientBoostingClassifier(learning_rate=0.1, n_estimators=20,max_depth=5,max_features='sqrt', \n",
    "                                                               subsample=0.8, random_state=10), \n",
    "param_grid = param_test3, scoring='roc_auc',n_jobs=4,iid=False, cv=5)\n",
    "gsearch3.fit(trainData[predictors],trainData['booking_status'])\n",
    "gsearch3.grid_scores_, gsearch3.best_params_, gsearch3.best_score_"
   ]
  },
  {
   "cell_type": "code",
   "execution_count": 214,
   "metadata": {
    "collapsed": false
   },
   "outputs": [
    {
     "name": "stdout",
     "output_type": "stream",
     "text": [
      "\n",
      "Model Report\n",
      "Accuracy : 0.8275\n",
      "AUC Score (Train): 0.643512\n",
      "CV Score : Mean - 0.6087333 | Std - 0.007282829 | Min - 0.5991287 | Max - 0.6213247\n"
     ]
    },
    {
     "data": {
      "image/png": "[encoded data removed]",
      "text/plain": [
       "<matplotlib.figure.Figure at 0x6ef5fc18>"
      ]
     },
     "metadata": {},
     "output_type": "display_data"
    }
   ],
   "source": [
    "modelfit(gsearch3.best_estimator_, trainData, predictors)"
   ]
  },
  {
   "cell_type": "code",
   "execution_count": 218,
   "metadata": {
    "collapsed": false
   },
   "outputs": [
    {
     "data": {
      "text/plain": [
       "([mean: 0.59993, std: 0.00513, params: {'max_features': 1},\n",
       "  mean: 0.60157, std: 0.00562, params: {'max_features': 2},\n",
       "  mean: 0.60873, std: 0.00728, params: {'max_features': 3},\n",
       "  mean: 0.60717, std: 0.00664, params: {'max_features': 4},\n",
       "  mean: 0.60881, std: 0.00511, params: {'max_features': 5},\n",
       "  mean: 0.61101, std: 0.00580, params: {'max_features': 6},\n",
       "  mean: 0.60854, std: 0.00634, params: {'max_features': 7},\n",
       "  mean: 0.60846, std: 0.00792, params: {'max_features': 8}],\n",
       " {'max_features': 6},\n",
       " 0.61100535852327942)"
      ]
     },
     "execution_count": 218,
     "metadata": {},
     "output_type": "execute_result"
    }
   ],
   "source": [
    "param_test4 = {'max_features':range(1,9,1)}\n",
    "gsearch4 = GridSearchCV(estimator = GradientBoostingClassifier(learning_rate=0.1, n_estimators=20,\n",
    "                                            max_depth=5, min_samples_split=1000, min_samples_leaf=60, subsample=0.8, random_state=10),\n",
    "param_grid = param_test4, scoring='roc_auc',n_jobs=4,iid=False, cv=5)\n",
    "gsearch4.fit(trainData[predictors],trainData['booking_status'])\n",
    "gsearch4.grid_scores_, gsearch4.best_params_, gsearch4.best_score_"
   ]
  },
  {
   "cell_type": "code",
   "execution_count": 219,
   "metadata": {
    "collapsed": false
   },
   "outputs": [
    {
     "data": {
      "text/plain": [
       "([mean: 0.60814, std: 0.00568, params: {'subsample': 0.6},\n",
       "  mean: 0.60662, std: 0.00501, params: {'subsample': 0.7},\n",
       "  mean: 0.60863, std: 0.00636, params: {'subsample': 0.75},\n",
       "  mean: 0.61101, std: 0.00580, params: {'subsample': 0.8},\n",
       "  mean: 0.60808, std: 0.00378, params: {'subsample': 0.85},\n",
       "  mean: 0.60952, std: 0.00402, params: {'subsample': 0.9}],\n",
       " {'subsample': 0.8},\n",
       " 0.61100535852327942)"
      ]
     },
     "execution_count": 219,
     "metadata": {},
     "output_type": "execute_result"
    }
   ],
   "source": [
    "param_test5 = {'subsample':[0.6,0.7,0.75,0.8,0.85,0.9]}\n",
    "gsearch5 = GridSearchCV(estimator = GradientBoostingClassifier(learning_rate=0.1, n_estimators=20,max_depth=5,\n",
    "                                        min_samples_split=1000, min_samples_leaf=60, subsample=0.8, random_state=10,max_features=6),\n",
    "param_grid = param_test5, scoring='roc_auc',n_jobs=4,iid=False, cv=5)\n",
    "gsearch5.fit(trainData[predictors],trainData['booking_status'])\n",
    "gsearch5.grid_scores_, gsearch5.best_params_, gsearch5.best_score_"
   ]
  },
  {
   "cell_type": "code",
   "execution_count": 308,
   "metadata": {
    "collapsed": false
   },
   "outputs": [
    {
     "name": "stdout",
     "output_type": "stream",
     "text": [
      "\n",
      "Model Report\n",
      "Accuracy : 0.8317\n",
      "AUC Score (Train): 0.713875\n"
     ]
    },
    {
     "data": {
      "image/png": "[encoded data removed]",
      "text/plain": [
       "<matplotlib.figure.Figure at 0x6f14e358>"
      ]
     },
     "metadata": {},
     "output_type": "display_data"
    }
   ],
   "source": [
    "predictors = [x for x in trainData.columns if x not in  ['booking_status','intercept']]\n",
    "gbm_tuned_4 = GradientBoostingClassifier(learning_rate=0.005, n_estimators=1500,max_depth=9, min_samples_split=1200, \n",
    "                                         min_samples_leaf=60, subsample=0.85, random_state=10, max_features=6,\n",
    "warm_start=True)\n",
    "modelfit(gbm_tuned_4, trainData, predictors, performCV=False)"
   ]
  },
  {
   "cell_type": "code",
   "execution_count": 309,
   "metadata": {
    "collapsed": false
   },
   "outputs": [
    {
     "data": {
      "text/plain": [
       "0.8135"
      ]
     },
     "execution_count": 309,
     "metadata": {},
     "output_type": "execute_result"
    }
   ],
   "source": [
    "#predictors = [x for x in trainData.columns if x not in  ['booking_status','intercept']]\n",
    "y_test = testData.booking_status\n",
    "output = gbm_tuned_4.predict(testData[predictors])\n",
    "np.mean(y_test==output)"
   ]
  },
  {
   "cell_type": "markdown",
   "metadata": {},
   "source": [
    "## Multiple Random Forest with random sampling"
   ]
  },
  {
   "cell_type": "code",
   "execution_count": 440,
   "metadata": {
    "collapsed": false
   },
   "outputs": [],
   "source": [
    "from sklearn.ensemble import RandomForestClassifier\n",
    "#for s in range(1,101,10):\n",
    "predictors = [x for x in trainData.columns if x not in  ['booking_status','intercept']]\n",
    "y_test = testData.booking_status\n",
    "outList = list()\n",
    "y_0 = trainData[trainData.booking_status == 0]\n",
    "y_1 = trainData[trainData.booking_status == 1]\n",
    "n = min([len(y_0),len(y_1)])\n",
    "for s in range(1,101,1):\n",
    "    y_0 = y_0.sample(n=n,random_state=s)\n",
    "    y_1 = y_1.sample(n=n,random_state=s)\n",
    "    trainStrat = pd.concat([y_0,y_1])\n",
    "    X_strat = trainStrat[predictors]\n",
    "    y_strat = trainStrat.booking_status\n",
    "\n",
    "    rf = RandomForestClassifier(n_estimators=200)\n",
    "    rf.fit(X_strat, y_strat)\n",
    "\n",
    "   \n",
    "    output = rf.predict(testData[predictors])\n",
    "    outList.append(output)"
   ]
  },
  {
   "cell_type": "code",
   "execution_count": 441,
   "metadata": {
    "collapsed": false
   },
   "outputs": [
    {
     "data": {
      "text/plain": [
       "0.52170000000000005"
      ]
     },
     "execution_count": 441,
     "metadata": {},
     "output_type": "execute_result"
    }
   ],
   "source": [
    "#from scipy.stats import mode\n",
    "preds = pd.DataFrame(mode(pd.DataFrame(outList))[0]).iloc[0]\n",
    "\n",
    "np.mean(y_test==preds)\n",
    "#np.mean(y_test==preds[0])\n"
   ]
  },
  {
   "cell_type": "code",
   "execution_count": 438,
   "metadata": {
    "collapsed": false
   },
   "outputs": [],
   "source": [
    "from sklearn.cross_validation import StratifiedShuffleSplit\n",
    "predictors = [x for x in trainData.columns if x not in  ['booking_status','intercept']]\n",
    "sss = StratifiedShuffleSplit(trainData.booking_status, 100, random_state=0)\n",
    "outList = list()\n",
    "y_test = testData.booking_status\n",
    "trainDataNew = np.array(trainData[predictors])\n",
    "for train_index, test_index in sss:\n",
    "    X_train = trainDataNew[train_index]\n",
    "    y_train = trainData.booking_status[train_index]\n",
    "    rf = RandomForestClassifier(n_estimators=200)\n",
    "    rf.fit(X_train, y_train)\n",
    "    output = rf.predict(testData[predictors])\n",
    "    outList.append(output)\n",
    "    \n"
   ]
  },
  {
   "cell_type": "code",
   "execution_count": 439,
   "metadata": {
    "collapsed": false
   },
   "outputs": [
    {
     "data": {
      "text/plain": [
       "0.77010000000000001"
      ]
     },
     "execution_count": 439,
     "metadata": {},
     "output_type": "execute_result"
    }
   ],
   "source": [
    "#from scipy.stats import mode\n",
    "preds = pd.DataFrame(mode(pd.DataFrame(outList))[0]).iloc[0]\n",
    "\n",
    "np.mean(y_test==preds)\n",
    "#np.mean(y_test==preds[0])\n"
   ]
  }
 ],
 "metadata": {
  "kernelspec": {
   "display_name": "Python 2",
   "language": "python",
   "name": "python2"
  },
  "language_info": {
   "codemirror_mode": {
    "name": "ipython",
    "version": 2
   },
   "file_extension": ".py",
   "mimetype": "text/x-python",
   "name": "python",
   "nbconvert_exporter": "python",
   "pygments_lexer": "ipython2",
   "version": "2.7.11"
  }
 },
 "nbformat": 4,
 "nbformat_minor": 0
}
